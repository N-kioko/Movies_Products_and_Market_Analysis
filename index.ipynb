{
 "cells": [
  {
   "cell_type": "markdown",
   "metadata": {},
   "source": [
    "### INTRDUCTION\n",
    "Audience reception  towards a  new movie is the standard xmetric of how good a movie is. the reception builds up to sales performanmce for the movie and this is where the production company mainly focuses on; sales and how much money made in this sense. Current market analysis  and audience reception of movies based on genre, features and  the production company can highly inform a  production companies on where to focus on\n",
    "\n",
    "\n",
    "###  PROBLEM STATEMENT\n",
    "This project  aim is to deepdive in the market analysis of movies performance on both consumer and producer segments and come up with actonable items on areas to be priotized at production stage for both parties to benefit. After all; Satisfied clients means constant business.\n",
    "\n",
    "\n",
    "### OBJECTIVES\n",
    "1. Analyze the trends and patterns in movie performance on both consumer and producer segments; Point ont which Genres are doing weell\n",
    "1. Assess the impact of various features (cast, director, genre, budget, etc.) on the reception and sales of movies.\n",
    "2. Identify areas where the production company can improve its performance.\n",
    "3. Provide actionable items to be prioritized at production stage for both parties to benefit.\n",
    "4. Discuss the potential impact of these changes on the overall business.\n",
    "5. Identify potential competitors and their strengths to counteract the potential drawbacks of the proposed changes.\n",
    "\n",
    "\n"
   ]
  },
  {
   "cell_type": "markdown",
   "metadata": {},
   "source": [
    "\n",
    "### DATA UNDERSTSNDING\n"
   ]
  }
 ],
 "metadata": {
  "language_info": {
   "name": "python"
  }
 },
 "nbformat": 4,
 "nbformat_minor": 2
}
